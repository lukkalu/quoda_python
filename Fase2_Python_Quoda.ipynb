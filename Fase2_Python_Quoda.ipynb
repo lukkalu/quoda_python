{
  "nbformat": 4,
  "nbformat_minor": 0,
  "metadata": {
    "colab": {
      "name": "Fase2.ipynb",
      "provenance": []
    },
    "kernelspec": {
      "name": "python3",
      "display_name": "Python 3"
    }
  },
  "cells": [
    {
      "cell_type": "markdown",
      "metadata": {
        "id": "CYNAmoj4zSXl"
      },
      "source": [
        "Crie um algoritmo em Python que peça 2 números e imprima o maior deles."
      ]
    },
    {
      "cell_type": "code",
      "metadata": {
        "id": "ViAfpy3GzPN-",
        "outputId": "51d23356-addc-4713-dfab-be9c5aa0f2c1",
        "colab": {
          "base_uri": "https://localhost:8080/",
          "height": 72
        }
      },
      "source": [
        "num1 = int(input(\"Insira o primeiro número: \"))\n",
        "num2 = int(input(\"Insira o segundo número: \"))\n",
        "\n",
        "if num1 > num2:\n",
        "  print(\"O maior número é o\",num1)\n",
        "else:\n",
        "  print(\"O maior número é o\",num2)\n",
        "\n"
      ],
      "execution_count": 8,
      "outputs": [
        {
          "output_type": "stream",
          "text": [
            "Insira o primeiro número: 30\n",
            "Insira o segundo número: 10\n",
            "O maior número é o 30\n"
          ],
          "name": "stdout"
        }
      ]
    },
    {
      "cell_type": "markdown",
      "metadata": {
        "id": "gdMis92izSmQ"
      },
      "source": [
        "Crie um algoritmo em Python que peça um valor e mostre na tela se o valor é positivo ou negativo."
      ]
    },
    {
      "cell_type": "code",
      "metadata": {
        "id": "BFpWkdCBz_zh",
        "outputId": "f7b5fb4e-6c42-4f53-cb52-ace8ebb44699",
        "colab": {
          "base_uri": "https://localhost:8080/",
          "height": 54
        }
      },
      "source": [
        "num = int(input(\"Digite um número inteiro: \"))\n",
        "if num > 0:\n",
        "  print(\"O valor digitado (\",num,\") é positivo\")\n",
        "else:\n",
        "  print(\"O valor digitado (\",num,\") é negativo\")"
      ],
      "execution_count": 11,
      "outputs": [
        {
          "output_type": "stream",
          "text": [
            "Digite um número inteiro: -1\n",
            "O valor digitado ( -1 ) é negativo\n"
          ],
          "name": "stdout"
        }
      ]
    },
    {
      "cell_type": "markdown",
      "metadata": {
        "id": "E_0l_Vx6zSo2"
      },
      "source": [
        "Crie um algoritmo em Python que verifique se uma letra digitada é vogal ou consoante."
      ]
    },
    {
      "cell_type": "code",
      "metadata": {
        "id": "KwJf7XZS0AZW",
        "outputId": "bfe54dcf-6495-4d18-b32d-a45aafa58313",
        "colab": {
          "base_uri": "https://localhost:8080/",
          "height": 54
        }
      },
      "source": [
        "letra = str(input(\"Digite uma letra: \"))\n",
        "if letra == \"A\" or letra ==\"a\" or letra == \"E\" or letra == \"e\" or letra == \"I\" or letra == \"i\" or letra == \"U\" or letra == \"u\":\n",
        "  print(\"Vogal\")\n",
        "else:\n",
        "  print(letra,\"É consoante\")"
      ],
      "execution_count": 14,
      "outputs": [
        {
          "output_type": "stream",
          "text": [
            "Digite uma letra: a\n",
            "Vogal\n"
          ],
          "name": "stdout"
        }
      ]
    },
    {
      "cell_type": "markdown",
      "metadata": {
        "id": "1i4VCiiczSrL"
      },
      "source": [
        "Faça um programa para a leitura de duas notas parciais de um aluno. O programa deve calcular a média alcançada por aluno e apresentar:\n",
        "* \"Aprovado\", se a média alcançada for maior ou igual a sete;\n",
        "* \"Reprovado\", se a média for menor do que sete;\n",
        "* \"Aprovado com Distinção\", se a média for igual a 10."
      ]
    },
    {
      "cell_type": "code",
      "metadata": {
        "id": "yoW67hjA0BHy",
        "outputId": "0796d7b6-9a81-410e-f280-38a240d01f3f",
        "colab": {
          "base_uri": "https://localhost:8080/",
          "height": 72
        }
      },
      "source": [
        "n1 = float(input(\"Digite a primeira nota: \"))\n",
        "n2 = float(input(\"Digite a segunda nota: \"))\n",
        "m = (n1 + n2) / 2\n",
        "\n",
        "if m >= 10:\n",
        "  print(\"Aprovado com distinção!\")\n",
        "elif m >= 7:\n",
        "  print(\"Aprovado\")\n",
        "else:\n",
        "  print(\"Reprovado\")\n",
        "\n"
      ],
      "execution_count": 22,
      "outputs": [
        {
          "output_type": "stream",
          "text": [
            "Digite a primeira nota: 10\n",
            "Digite a segunda nota: 10\n",
            "Aprovado com distinção!\n"
          ],
          "name": "stdout"
        }
      ]
    },
    {
      "cell_type": "markdown",
      "metadata": {
        "id": "4ep7kezvzStO"
      },
      "source": [
        "Crie um algoritmo em Python que leia três números e mostre o maior deles."
      ]
    },
    {
      "cell_type": "code",
      "metadata": {
        "id": "6K6IHWdr0Blt",
        "outputId": "3cfd3aa8-7442-41b6-ab94-48c9e94c926a",
        "colab": {
          "base_uri": "https://localhost:8080/",
          "height": 90
        }
      },
      "source": [
        "num1 = int(input(\"Insira o primeiro número: \"))\n",
        "num2 = int(input(\"Insira o segundo número: \"))\n",
        "num3 = int(input(\"Insira o terceiro número: \"))\n",
        "\n",
        "if num1 > num2 and num1 > num3:\n",
        "  print(num1,\"é o maior número\")\n",
        "elif num2 > num1 and num2 > num3:\n",
        "  print(num2,\"é o maior número\")\n",
        "else:\n",
        "  print(num3,\"é o maior número\")\n"
      ],
      "execution_count": 26,
      "outputs": [
        {
          "output_type": "stream",
          "text": [
            "Insira o primeiro número: 2000\n",
            "Insira o segundo número: 2002\n",
            "Insira o terceiro número: 2001\n",
            "2002 é o maior número\n"
          ],
          "name": "stdout"
        }
      ]
    },
    {
      "cell_type": "markdown",
      "metadata": {
        "id": "u6__NaXqzeYg"
      },
      "source": [
        "Crie um algoritmo em Python que leia três números e mostre o maior e o menor deles."
      ]
    },
    {
      "cell_type": "code",
      "metadata": {
        "id": "mm2L7g3x0Cfx",
        "outputId": "a28b3db8-2519-42ae-b31d-13566997cba0",
        "colab": {
          "base_uri": "https://localhost:8080/",
          "height": 90
        }
      },
      "source": [
        "num1 = int(input(\"Insira o primeiro número: \"))\n",
        "num2 = int(input(\"Insira o segundo número: \"))\n",
        "num3 = int(input(\"Insira o terceiro número: \"))\n",
        "\n",
        "if num1 < num2 and num1 < num3:\n",
        "  print(num1,\"é o menor número\")\n",
        "elif num2 < num1 and num2 < num3:\n",
        "  print(num2,\"é o menor número\")\n",
        "else:\n",
        "  print(num3,\"é o menor número\")"
      ],
      "execution_count": 29,
      "outputs": [
        {
          "output_type": "stream",
          "text": [
            "Insira o primeiro número: 0\n",
            "Insira o segundo número: -2\n",
            "Insira o terceiro número: 0\n",
            "-2 é o menor número\n"
          ],
          "name": "stdout"
        }
      ]
    },
    {
      "cell_type": "markdown",
      "metadata": {
        "id": "lIlfG-ATzgOr"
      },
      "source": [
        "Faça um programa que pergunte o preço de 5 produtos e informe qual produto você deve comprar, sabendo que a decisão é sempre pelo mais barato."
      ]
    },
    {
      "cell_type": "code",
      "metadata": {
        "id": "-y4pB6br0DD_",
        "outputId": "542f288e-ce06-4f01-feae-0153ef5d5a96",
        "colab": {
          "base_uri": "https://localhost:8080/",
          "height": 126
        }
      },
      "source": [
        "p1 = float(input(\"Insira o preço do primeiro produto: \"))\n",
        "p2 = float(input(\"Insira o preço do segundo produto: \"))\n",
        "p3 = float(input(\"Insira o preço do terceiro produto: \"))\n",
        "p4 = float(input(\"Insira o preço do quarto produto: \"))\n",
        "p5 = float(input(\"Insira o preço do quinto produto: \"))\n",
        "\n",
        "if p1 < p2 and p1 < p3 and p1 < p4 and p1 < p5:\n",
        "  print(\"O primeiro produto é o mais barato!\")\n",
        "elif p2 < p1 and p2 < p3 and p2 < p4 and p2 < p5:\n",
        "  print(\"O segundo produto é o mais barato!\")\n",
        "elif p3 < p1 and p3 < p2 and p3 < p4 and p3 < p5:\n",
        "  print(\"O terceiro produto é o mais barato!\")\n",
        "elif p4 < p1 and p4 < p2 and p4 < p3 and p4 < p5:\n",
        "  print(\"O quarto produto é o mais barato!\")  \n",
        "else:\n",
        "  print(\"O quinto produto é o mais barato\")"
      ],
      "execution_count": 37,
      "outputs": [
        {
          "output_type": "stream",
          "text": [
            "Insira o preço do primeiro produto: 10\n",
            "Insira o preço do segundo produto: 20\n",
            "Insira o preço do terceiro produto: 30\n",
            "Insira o preço do quarto produto: 40\n",
            "Insira o preço do quinto produto: -1\n",
            "O quinto produto é o mais barato\n"
          ],
          "name": "stdout"
        }
      ]
    },
    {
      "cell_type": "markdown",
      "metadata": {
        "id": "Vj4OXsJQziu_"
      },
      "source": [
        "Crie um algoritmo em Python que leia três números e mostre-os em ordem decrescente."
      ]
    },
    {
      "cell_type": "code",
      "metadata": {
        "id": "RmApGpg30D00",
        "outputId": "1a32134d-fd6e-4c4f-d844-deebc70fcabb",
        "colab": {
          "base_uri": "https://localhost:8080/",
          "height": 90
        }
      },
      "source": [
        "num1 = int(input(\"Insira o primeiro número: \"))\n",
        "num2 = int(input(\"Insira o segundo número: \"))\n",
        "num3 = int(input(\"Insira o terceiro número: \"))\n",
        "\n",
        "if num1 == num2 or num2 == num3 or num2 == num3:\n",
        "    print(\"Inválido\")\n",
        "if num1 > num2 > num3:\n",
        "  print(num1,num2,num3)\n",
        "elif num1 > num3 > num2:\n",
        "  print(num1,num3,num2)\n",
        "elif num2 > num1 > num3:\n",
        "  print(num2,num1,num3)\n",
        "elif num2 > num3 > num1:\n",
        "  print(num2,num3,num1)\n",
        "elif num3 > num2 > num1:\n",
        "  print(num3,num2,num1)\n",
        "elif num3 > num1 > num2:\n",
        "  print(num3,num1,num2)"
      ],
      "execution_count": 40,
      "outputs": [
        {
          "output_type": "stream",
          "text": [
            "Insira o primeiro número: 1\n",
            "Insira o segundo número: 1\n",
            "Insira o terceiro número: 3\n",
            "Inválido\n"
          ],
          "name": "stdout"
        }
      ]
    },
    {
      "cell_type": "markdown",
      "metadata": {
        "id": "e7id8Ewgzlow"
      },
      "source": [
        "As Organizações Mendéz resolveram dar um aumento de salário aos seus colaboradores e lhe contraram para desenvolver o programa que calculará os reajustes em Python. Faça um programa que receba o salário de um colaborador e o reajuste segundo o seguinte critério, baseado no salário atual:\n",
        "\n",
        "* salários entre 680,00 e 800,00 : aumento de 15%<br>\n",
        "* salários entre 800,00 e 2500,00 : aumento de 10%<br>\n",
        "* salários de 2500,00 em diante : aumento de 5% após o aumento ser realizado.\n",
        "\n",
        "Informe na tela:\n",
        "* o salário antes do reajuste;\n",
        "* o percentual de aumento aplicado;\n",
        "* o valor do aumento;\n",
        "* o novo salário, após o aumento."
      ]
    },
    {
      "cell_type": "code",
      "metadata": {
        "id": "Kl0ainsv0Eif",
        "outputId": "07580d5f-8a12-4fda-bc83-38d4f9c4d641",
        "colab": {
          "base_uri": "https://localhost:8080/",
          "height": 108
        }
      },
      "source": [
        "salario = float(input(\"Digite o salário atual do colaborador: \"))\n",
        "\n",
        "if salario <= 800:\n",
        "    novo_salario = salario * 1.15\n",
        "    aumento = salario * 0.15\n",
        "    percentual = \"15%\"\n",
        "elif salario <= 2500:\n",
        "    novo_salario = salario * 1.10\n",
        "    aumento = salario * 0.10\n",
        "    percentual = \"10%\"\n",
        "else:\n",
        "    novo_salario = salario * 1.05\n",
        "    aumento = salario * 0.05\n",
        "    percentual = \"5%\"\n",
        "\n",
        "print(\"Salário inicial:\",salario)\n",
        "print(\"Percentual aplicado:\",percentual)\n",
        "print(\"Valor do aumento: \",aumento)\n",
        "print(\"Novo salário: \",novo_salario)\n",
        "\n"
      ],
      "execution_count": 47,
      "outputs": [
        {
          "output_type": "stream",
          "text": [
            "Digite o salário atual do colaborador: 3000\n",
            "Salário inicial: 3000.0\n",
            "Percentual aplicado: 5%\n",
            "Valor do aumento:  150.0\n",
            "Novo salário:  3150.0\n"
          ],
          "name": "stdout"
        }
      ]
    },
    {
      "cell_type": "code",
      "metadata": {
        "id": "jD507tRpk3Nz"
      },
      "source": [
        ""
      ],
      "execution_count": null,
      "outputs": []
    }
  ]
}