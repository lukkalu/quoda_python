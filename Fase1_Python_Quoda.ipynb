{
  "nbformat": 4,
  "nbformat_minor": 0,
  "metadata": {
    "colab": {
      "name": "Fase1.ipynb",
      "provenance": []
    },
    "kernelspec": {
      "name": "python3",
      "display_name": "Python 3"
    }
  },
  "cells": [
    {
      "cell_type": "markdown",
      "metadata": {
        "id": "CYNAmoj4zSXl"
      },
      "source": [
        "Crie um algoritmo em Python que mostre a mensagem \"Alo mundo\" na tela."
      ]
    },
    {
      "cell_type": "code",
      "metadata": {
        "id": "ViAfpy3GzPN-",
        "outputId": "15a658cd-5602-4ea5-a757-12eb7fd0d8b7",
        "colab": {
          "base_uri": "https://localhost:8080/",
          "height": 34
        }
      },
      "source": [
        "print(\"Alo mundo\")"
      ],
      "execution_count": null,
      "outputs": [
        {
          "output_type": "stream",
          "text": [
            "Alo mundo\n"
          ],
          "name": "stdout"
        }
      ]
    },
    {
      "cell_type": "markdown",
      "metadata": {
        "id": "gdMis92izSmQ"
      },
      "source": [
        "Crie um algoritmo em Python que peça dois números e imprima a soma."
      ]
    },
    {
      "cell_type": "code",
      "metadata": {
        "id": "BFpWkdCBz_zh",
        "outputId": "ccec278d-e066-4e36-f6dd-1a2f070b3ed3",
        "colab": {
          "base_uri": "https://localhost:8080/",
          "height": 72
        }
      },
      "source": [
        "a = input(\"Primeiro número  \" )\n",
        "b = input(\"Segundo número   \" )\n",
        "c = int(a) + int(b)\n",
        "\n",
        "print(c)"
      ],
      "execution_count": 10,
      "outputs": [
        {
          "output_type": "stream",
          "text": [
            "Primeiro número  51\n",
            "Segundo número20\n",
            "71\n"
          ],
          "name": "stdout"
        }
      ]
    },
    {
      "cell_type": "markdown",
      "metadata": {
        "id": "E_0l_Vx6zSo2"
      },
      "source": [
        "Crie um algoritmo em Python que peça um número e então mostre a mensagem O número informado foi [número]."
      ]
    },
    {
      "cell_type": "code",
      "metadata": {
        "id": "KwJf7XZS0AZW",
        "outputId": "7978525c-69df-47f4-c6ad-95866f27ba8a",
        "colab": {
          "base_uri": "https://localhost:8080/",
          "height": 54
        }
      },
      "source": [
        "a = input(\"Digite o número que deseja mostrar:   \")\n",
        "print(\"O número informado é\",a)"
      ],
      "execution_count": 11,
      "outputs": [
        {
          "output_type": "stream",
          "text": [
            "Digite o número que deseja mostrar:   200\n",
            "O número informado é 200\n"
          ],
          "name": "stdout"
        }
      ]
    },
    {
      "cell_type": "markdown",
      "metadata": {
        "id": "1i4VCiiczSrL"
      },
      "source": [
        "Crie um algoritmo em Python que converta metros para centímetros."
      ]
    },
    {
      "cell_type": "code",
      "metadata": {
        "id": "yoW67hjA0BHy",
        "outputId": "7456b08e-b9f7-4b34-b1a5-daaf23dcfc3b",
        "colab": {
          "base_uri": "https://localhost:8080/",
          "height": 54
        }
      },
      "source": [
        "a = input(\"Digite o valor em metros:     \")\n",
        "b = int(a) * 100\n",
        "print(a, \" equivale à \",b,\"centimetros\")\n"
      ],
      "execution_count": 14,
      "outputs": [
        {
          "output_type": "stream",
          "text": [
            "Digite o valor em metros:     1\n",
            "1  equivale à  100 centimetros\n"
          ],
          "name": "stdout"
        }
      ]
    },
    {
      "cell_type": "markdown",
      "metadata": {
        "id": "4ep7kezvzStO"
      },
      "source": [
        "Crie um algoritmo em Python que peça as 4 notas bimestrais e mostre a média."
      ]
    },
    {
      "cell_type": "code",
      "metadata": {
        "id": "6K6IHWdr0Blt",
        "outputId": "95d0a4f4-3829-4e25-8051-32d9e89a2ecf",
        "colab": {
          "base_uri": "https://localhost:8080/",
          "height": 108
        }
      },
      "source": [
        "cont = 1\n",
        "total_notas = 0\n",
        "\n",
        "while cont <= 4:\n",
        "    texto = \"Digite a \" + str(cont) + \"ª nota    \"\n",
        "    nota = input(texto)\n",
        "    total_notas = int(total_notas) + int(nota)\n",
        "    cont = cont + 1\n",
        "\n",
        "print(\"A média das notas é: \", total_notas/4)\n",
        "\n"
      ],
      "execution_count": 46,
      "outputs": [
        {
          "output_type": "stream",
          "text": [
            "Digite a 1ª nota    1\n",
            "Digite a 2ª nota    1\n",
            "Digite a 3ª nota    1\n",
            "Digite a 4ª nota    1\n",
            "A média das notas é:  1.0\n"
          ],
          "name": "stdout"
        }
      ]
    },
    {
      "cell_type": "markdown",
      "metadata": {
        "id": "u6__NaXqzeYg"
      },
      "source": [
        "Crie um algoritmo em Python que peça o raio de um círculo, calcule e mostre sua área."
      ]
    },
    {
      "cell_type": "code",
      "metadata": {
        "id": "mm2L7g3x0Cfx",
        "outputId": "25f88099-9cd4-43e2-a7a0-5050695f8868",
        "colab": {
          "base_uri": "https://localhost:8080/",
          "height": 54
        }
      },
      "source": [
        "pi = float(3.14)\n",
        "raio = input(\"Digite o raio do círculo:  \")\n",
        "A = pi * (float(raio) ** 2)\n",
        "print(\"A área do círculo é: \",A)\n"
      ],
      "execution_count": 62,
      "outputs": [
        {
          "output_type": "stream",
          "text": [
            "Digite o raio do círculo:  10\n",
            "A área do círculo é:  314.0\n"
          ],
          "name": "stdout"
        }
      ]
    },
    {
      "cell_type": "markdown",
      "metadata": {
        "id": "lIlfG-ATzgOr"
      },
      "source": [
        "Crie um algoritmo em Python que calcule a área de um quadrado, em seguida mostre o dobro desta área para o usuário."
      ]
    },
    {
      "cell_type": "code",
      "metadata": {
        "id": "-y4pB6br0DD_",
        "outputId": "aa36c9c8-42fa-4283-b33e-1520d7d555ee",
        "colab": {
          "base_uri": "https://localhost:8080/",
          "height": 54
        }
      },
      "source": [
        "lado = input(\"Digite o valor dos lados do quadrado:  \")\n",
        "A = float(lado) ** 2\n",
        "Dobro_A = A * 2\n",
        "print(\"A área de um quadrado com lados no valor de\",lado,\"é de\",A,\"e o dobro disso é\",Dobro_A)\n"
      ],
      "execution_count": 67,
      "outputs": [
        {
          "output_type": "stream",
          "text": [
            "Digite o valor dos lados do quadrado:  10\n",
            "A área de um quadrado com lados no valor de 10 é de 100.0 e o dobro disso é  200.0\n"
          ],
          "name": "stdout"
        }
      ]
    },
    {
      "cell_type": "markdown",
      "metadata": {
        "id": "Vj4OXsJQziu_"
      },
      "source": [
        "Crie um algoritmo em Python que pergunte quanto você ganha por hora e o número de horas trabalhadas no mês. Calcule e mostre o total do seu salário no referido mês.\n"
      ]
    },
    {
      "cell_type": "code",
      "metadata": {
        "id": "RmApGpg30D00",
        "outputId": "f2dee4b3-2c6f-43a9-8403-1c38448ba8cb",
        "colab": {
          "base_uri": "https://localhost:8080/",
          "height": 72
        }
      },
      "source": [
        "ganhos_hora = float(input(\"Ganho por hora:  \"))\n",
        "horas_trabalhadas = float(input(\"Horas trabalhadas:  \"))\n",
        "total = ganhos_hora * horas_trabalhadas\n",
        "print(\"Total ganho:\",total)\n"
      ],
      "execution_count": 69,
      "outputs": [
        {
          "output_type": "stream",
          "text": [
            "Ganho por hora:  10\n",
            "Horas trabalhadas:  10\n",
            "Total ganho:  100.0\n"
          ],
          "name": "stdout"
        }
      ]
    },
    {
      "cell_type": "markdown",
      "metadata": {
        "id": "e7id8Ewgzlow"
      },
      "source": [
        "Crie um algoritmo em Python que peça a temperatura em graus Farenheit, transforme e mostre a temperatura em graus Celsius.\n",
        "C = (5 * (F-32) / 9)."
      ]
    },
    {
      "cell_type": "code",
      "metadata": {
        "id": "Kl0ainsv0Eif",
        "outputId": "1ee79bdd-14e9-44a0-92d8-d3267a31131c",
        "colab": {
          "base_uri": "https://localhost:8080/",
          "height": 54
        }
      },
      "source": [
        "F = float(input(\"Digite a temperatura em Farenheit:  \"))\n",
        "C = (5 *(F-32)/9)\n",
        "print(\"Temperatura em C é de\",C)"
      ],
      "execution_count": 71,
      "outputs": [
        {
          "output_type": "stream",
          "text": [
            "Digite a temperatura em Farenheit:  10\n",
            "Temperatura em C é de -12.222222222222221\n"
          ],
          "name": "stdout"
        }
      ]
    },
    {
      "cell_type": "markdown",
      "metadata": {
        "id": "mFCgXRPaznno"
      },
      "source": [
        "Crie um algoritmo em Python que peça a temperatura em graus Celsius, transforme e mostre em graus Farenheit."
      ]
    },
    {
      "cell_type": "code",
      "metadata": {
        "id": "xEAAHRi00FS8",
        "outputId": "4949a565-5fb5-4814-acbf-633f0c180a24",
        "colab": {
          "base_uri": "https://localhost:8080/",
          "height": 54
        }
      },
      "source": [
        "C = float(input(\"Digite a temperatura em Celsius:  \"))\n",
        "F = C * (9 / 5) + 32\n",
        "print(\"Temperatura em Fahrenheit é de\",F)"
      ],
      "execution_count": 72,
      "outputs": [
        {
          "output_type": "stream",
          "text": [
            "Digite a temperatura em Celsius:  -12.222222222222221\n",
            "Temperatura em Fahrenheit é de 10.0\n"
          ],
          "name": "stdout"
        }
      ]
    },
    {
      "cell_type": "markdown",
      "metadata": {
        "id": "j3fdhu-8zqu9"
      },
      "source": [
        "Crie um algoritmo em Python que peça 2 números inteiros e um número real. Calcule e mostre:\n",
        "* a soma do dobro do primeiro com metade do segundo .\n",
        "* a soma do triplo do primeiro com o terceiro.\n",
        "* o terceiro elevado ao cubo."
      ]
    },
    {
      "cell_type": "code",
      "metadata": {
        "id": "ZEqZrKjt0F5B",
        "outputId": "bb65a925-01e3-4452-a4b0-39c4ae5177d6",
        "colab": {
          "base_uri": "https://localhost:8080/",
          "height": 126
        }
      },
      "source": [
        "a = int(input(\"Digite o primeiro número: \"))\n",
        "b = int(input(\"Digite o segundo número  \"))\n",
        "c = float(input(\"Digite o terceiro número: \"))\n",
        "\n",
        "c_1 = (a * 2) + (b / 2)\n",
        "c_2 = (a * 3) + c\n",
        "c_3 = c ** 3\n",
        "\n",
        "print(\"A soma do dobro do primeiro com metade do segundo\", c_1)\n",
        "print(\"A soma do triplo do primeiro com o terceiro\",c_2)\n",
        "print(\"O terceiro elevado ao cubo\",c_3)"
      ],
      "execution_count": 76,
      "outputs": [
        {
          "output_type": "stream",
          "text": [
            "Digite o primeiro número: 10\n",
            "Digite o segundo número  20\n",
            "Digite o terceiro número: 30\n",
            "A soma do dobro do primeiro com metade do segundo 30.0\n",
            "A soma do triplo do primeiro com o terceiro 60.0\n",
            "O terceiro elevado ao cubo 27000.0\n"
          ],
          "name": "stdout"
        }
      ]
    }
  ]
}